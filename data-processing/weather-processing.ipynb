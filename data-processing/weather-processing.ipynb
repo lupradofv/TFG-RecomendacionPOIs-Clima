{
 "cells": [
  {
   "cell_type": "markdown",
   "id": "23765211",
   "metadata": {},
   "source": [
    "# **Procesamiento de Datos Meteorológicos**"
   ]
  },
  {
   "cell_type": "code",
   "execution_count": 4,
   "id": "73f308f0",
   "metadata": {},
   "outputs": [],
   "source": [
    "import pandas as pd\n",
    "import os\n",
    "from datetime import datetime\n"
   ]
  },
  {
   "cell_type": "code",
   "execution_count": 2,
   "id": "d22646be",
   "metadata": {},
   "outputs": [],
   "source": [
    "cities = ['LDN', 'NY', 'TK']\n",
    "cities_v2 = ['London', 'New York', 'Tokyo']"
   ]
  },
  {
   "cell_type": "code",
   "execution_count": null,
   "id": "997bd38b",
   "metadata": {},
   "outputs": [],
   "source": [
    "for city in cities:\n",
    "    df = pd.read_csv(f'../data/weather/{city}_combined.csv')\n",
    "    df['datetime'] = pd.to_datetime(df['datetime'], format='mixed', errors='coerce')\n",
    "    df['datetime'] = df['datetime'].astype('int64') // 10**9  \n",
    "    df = df[['datetime', 'temp', 'precip', 'snow', 'windspeed', 'visibility', 'uvindex']]\n",
    "    df.to_csv(f'../data/weather/{city}_transformed.csv', index=False)\n"
   ]
  },
  {
   "cell_type": "code",
   "execution_count": null,
   "id": "28c03e3a",
   "metadata": {},
   "outputs": [],
   "source": [
    "for city in cities:\n",
    "    df = pd.read_csv(f'../data/weather/{city}_combined.csv')\n",
    "    df['datetime'] = pd.to_datetime(df['datetime'], format='mixed', errors='coerce')\n",
    "    df['datetime'] = df['datetime'].astype('int64') // 10**9  \n",
    "    df = df[['datetime', 'temp', 'precip', 'snow', 'windspeed', 'visibility', 'uvindex']]\n",
    "    df.to_csv(f'../data/weather/{city}_transformed.csv', index=False)"
   ]
  },
  {
   "cell_type": "code",
   "execution_count": null,
   "id": "b46842c9",
   "metadata": {},
   "outputs": [],
   "source": [
    "for city in cities_v2:\n",
    "    checkins_path = f\"../data/FoursquareProcessed/{city}_checkins.txt\"\n",
    "    weather_path = f\"../data/weather/TK_transformed.csv\"\n",
    "    checkins = pd.read_csv(checkins_path, sep=\"\\t\", names=[\"user_id\", \"poi_id\", \"timestamp\"])\n",
    "    weather = pd.read_csv(weather_path)\n",
    "    checkins[\"datetime_hour\"] = (checkins[\"timestamp\"] // 3600) * 3600 # Redondea a la hora más cercana\n",
    "    weather[\"datetime_hour\"] = (weather[\"datetime\"] // 3600) * 3600  # Redondea a la hora más cercana\n",
    "    merged = pd.merge(\n",
    "        checkins,\n",
    "        weather,\n",
    "        on=\"datetime_hour\",\n",
    "        how=\"left\"\n",
    "    )\n",
    "    merged = merged.drop(columns=[\"timestamp\",\"datetime_hour\", \"datetime\"])\n",
    "merged.to_csv(f\"../data/FoursquareProcessed/{city}_checkins_weather.txt\", sep=\"\\t\", index=False, header=False)"
   ]
  }
 ],
 "metadata": {
  "kernelspec": {
   "display_name": "Python 3",
   "language": "python",
   "name": "python3"
  },
  "language_info": {
   "codemirror_mode": {
    "name": "ipython",
    "version": 3
   },
   "file_extension": ".py",
   "mimetype": "text/x-python",
   "name": "python",
   "nbconvert_exporter": "python",
   "pygments_lexer": "ipython3",
   "version": "3.10.11"
  }
 },
 "nbformat": 4,
 "nbformat_minor": 5
}
